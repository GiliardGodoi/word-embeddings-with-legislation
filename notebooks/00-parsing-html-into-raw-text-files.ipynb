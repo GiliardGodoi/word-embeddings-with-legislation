{
 "cells": [
  {
   "cell_type": "code",
   "execution_count": 75,
   "id": "769952ae",
   "metadata": {},
   "outputs": [],
   "source": [
    "import re\n",
    "\n",
    "from pathlib import Path\n",
    "from bs4 import BeautifulSoup"
   ]
  },
  {
   "cell_type": "code",
   "execution_count": 256,
   "id": "812a17dd",
   "metadata": {},
   "outputs": [],
   "source": [
    "def remove_tables_from_soup(soup):\n",
    "    for t in soup.find_all('table'):\n",
    "        t.decompose()\n",
    "        \n",
    "    return soup\n",
    "\n",
    "def remove_special_links_from_soup(soup):\n",
    "    for a in soup.find_all('a'):\n",
    "        text = a.text\n",
    "        text = re.sub('\\t+', ' ', text)\n",
    "        text = re.sub('\\n+', ' ', text)\n",
    "        text = re.sub('&nbsp', ' ', text)\n",
    "        text = re.sub(' {2,}', ' ', text)\n",
    "        text = text.strip().lower()\n",
    "    \n",
    "        if text != '' :\n",
    "            text = text.replace('(', '').replace(')', '')\n",
    "            if text == 'regulamento' \\\n",
    "                or text == 'vigência' \\\n",
    "                or text == 'revogado' \\\n",
    "                or text == 'vetado':\n",
    "                a.decompose()\n",
    "            elif text.startswith('(vide decreto'):\n",
    "                a.decompose()\n",
    "            elif text.startswith('redação dada pel') : # pela lei OU pelo decreto-lei\n",
    "                a.decompose()\n",
    "            elif text.startswith('incluído pel'):\n",
    "                a.decompose()\n",
    "            elif text.startswith('revogado pel'):\n",
    "                a.decompose()\n",
    "            elif text.startswith('vide lei'):\n",
    "                a.decompose()\n",
    "            elif text.startswith('vide adi'):\n",
    "                a.decompose()\n",
    "            elif text.startswith('vide adpf'):\n",
    "                a.decompose()\n",
    "    return soup"
   ]
  },
  {
   "cell_type": "code",
   "execution_count": 257,
   "id": "f6321885",
   "metadata": {},
   "outputs": [],
   "source": [
    "def normalize_text(text):\n",
    "    text = re.sub('\\t+', ' ', text)\n",
    "    text = re.sub('\\n+', ' ', text)\n",
    "    text = re.sub('&nbsp', ' ', text)\n",
    "    text = re.sub('\\xa0', ' ', text)\n",
    "    text = re.sub('\\.{4,}', '', text)\n",
    "    text = re.sub('[“”]', '', text)\n",
    "    text = re.sub(' {2,}', ' ', text)\n",
    "    text = text.strip()\n",
    "    \n",
    "    return text\n",
    "\n",
    "def remove_section_ref_from_begining(text):\n",
    "    \n",
    "    if text.startswith('Parágrafo único.'):\n",
    "        text = re.sub(r'^Parágrafo único.', '', text)\n",
    "    elif text.startswith('Art.'):\n",
    "        text = re.sub(r\"Art\\.\\s*\\d+[º\\w-]*\\s*\\.*\", \"\", text)\n",
    "    elif text.startswith(\"§\") :\n",
    "        text = re.sub(r\"§ \\d+[º°o.] \", \"\", text)\n",
    "    else:\n",
    "        text = re.sub(r\"^[IVXLCDM]+\\s*-\\s*\", \"\", text)\n",
    "        text = re.sub(r\"^[a-z]\\) \", \"\", text)\n",
    "    \n",
    "    text = re.sub(r'^ +', '', text)\n",
    "    \n",
    "    return text\n",
    "\n",
    "\n",
    "def remove_special_headers(text):\n",
    "    text = re.sub(r\"^(TÍTULO|CAPÍTULO|SEÇÃO|LIVRO)\\s+[IVXLCDM]*\\s*\", \"\", text)\n",
    "    \n",
    "    return text"
   ]
  },
  {
   "cell_type": "code",
   "execution_count": 266,
   "id": "0783d6ed",
   "metadata": {},
   "outputs": [],
   "source": [
    "def process_paragraphs_from_soup(soup):\n",
    "    paragraphs = list()\n",
    "    for p in soup.find_all('p'):\n",
    "        text = normalize_text(p.text)\n",
    "        text = remove_section_ref_from_begining(text)\n",
    "        text = remove_special_headers(text)\n",
    "        \n",
    "        if text != '':\n",
    "            paragraphs.append(text)\n",
    "    \n",
    "    return paragraphs"
   ]
  },
  {
   "cell_type": "code",
   "execution_count": 267,
   "id": "2230fd0b",
   "metadata": {},
   "outputs": [],
   "source": [
    "def process_document(file : Path, encoding='windows-1252', errors='ignore'):\n",
    "    soup = BeautifulSoup(\n",
    "            file.read_text(encoding=encoding, errors=errors),\n",
    "            'html.parser'\n",
    "    )\n",
    "    \n",
    "    soup = remove_tables_from_soup(soup)\n",
    "    soup = remove_special_links_from_soup(soup)\n",
    "    \n",
    "    return process_paragraphs_from_soup(soup) \n",
    "    "
   ]
  },
  {
   "cell_type": "code",
   "execution_count": 273,
   "id": "f5b5f36d",
   "metadata": {},
   "outputs": [
    {
     "data": {
      "text/plain": [
       "53"
      ]
     },
     "execution_count": 273,
     "metadata": {},
     "output_type": "execute_result"
    }
   ],
   "source": [
    "INPUT_FOLDER = Path('..', 'data', 'leis')\n",
    "\n",
    "files = [f for f in INPUT_FOLDER.glob('*.htm*') ]\n",
    "\n",
    "len(files)"
   ]
  },
  {
   "cell_type": "code",
   "execution_count": 292,
   "id": "2de60d59",
   "metadata": {},
   "outputs": [
    {
     "name": "stdout",
     "output_type": "stream",
     "text": [
      "Constituicao-Compilado.html 3217\n",
      "D10854.html 702\n",
      "D11129.html 365\n",
      "D24643compilado.html 545\n",
      "Decreto nº 8777.html 72\n",
      "Del0227compilado.html 406\n",
      "DEL1001Compilado.html 1951\n",
      "DEL1002Compilado.html 2929\n",
      "DEL2848compilado.html 2120\n",
      "Del3689Compilado.html 2204\n",
      "Del4657compilado.html 94\n",
      "Del5452compilado.html 3147\n",
      "Emenda Constitucional nº 103.html 323\n",
      "L10406compilada.html 4276\n",
      "L11788.html 93\n",
      "L12527.html 279\n",
      "L12651compilado.html 639\n",
      "L12846.html 178\n",
      "L12965.html 245\n",
      "L13105compilada.html 4227\n",
      "L13146.html 622\n",
      "L13303.html 661\n",
      "L13709compilado.html 499\n",
      "L14124.html 130\n",
      "L14133.html 1561\n",
      "L14217.html 99\n",
      "L4320compilado.html 424\n",
      "L4595compilado.html 267\n",
      "L4737compilado.html 1410\n",
      "L5172COMPILADO.html 725\n",
      "L7064.html 67\n",
      "L7492.html 94\n",
      "L8069compiladoa.html 1397\n",
      "L8078compilado.html 535\n",
      "L8080.html 405\n",
      "L8112compilado.html 1046\n",
      "L8429compilada.html 273\n",
      "L8666compilado.html 789\n",
      "L8742compilado.html 306\n",
      "L9096Consol.html 347\n",
      "L9099.html 313\n",
      "L9394compilado.html 635\n",
      "L9503Compilado.html 2197\n",
      "L9605.html 381\n",
      "L9784.html 248\n",
      "L9868.html 132\n",
      "Lcp 123.html 1234\n",
      "Lcp101.html 607\n",
      "Lcp35.html 466\n",
      "Lcp95compilado.html 113\n",
      "Lei 6.404compilada.html 1834\n",
      "Lei nº 11.343.html 496\n",
      "Lei nº 11.416.html 172\n"
     ]
    }
   ],
   "source": [
    "OUT_FOLDER = Path('..', 'data', 'step1')\n",
    "\n",
    "for file in files:\n",
    "    output = OUT_FOLDER / f'{file.stem}.txt'\n",
    "#     output.touch()\n",
    "    lines = process_document(file)\n",
    "    print(file.name, len(lines))\n",
    "    \n",
    "    with output.open(mode='w', encoding='utf8') as out:\n",
    "        out.write('\\n'.join(lines))\n",
    "    "
   ]
  },
  {
   "cell_type": "code",
   "execution_count": null,
   "id": "8a786642",
   "metadata": {},
   "outputs": [],
   "source": []
  }
 ],
 "metadata": {
  "kernelspec": {
   "display_name": "Python 3 (ipykernel)",
   "language": "python",
   "name": "python3"
  },
  "language_info": {
   "codemirror_mode": {
    "name": "ipython",
    "version": 3
   },
   "file_extension": ".py",
   "mimetype": "text/x-python",
   "name": "python",
   "nbconvert_exporter": "python",
   "pygments_lexer": "ipython3",
   "version": "3.11.5"
  }
 },
 "nbformat": 4,
 "nbformat_minor": 5
}
